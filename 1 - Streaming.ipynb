{
 "cells": [
  {
   "cell_type": "code",
   "execution_count": null,
   "id": "f6593872",
   "metadata": {},
   "outputs": [],
   "source": [
    "from openfilter.filter_runtime.filter import Filter\n",
    "from openfilter.filter_runtime.filters.video_in import VideoIn\n",
    "from openfilter.filter_runtime.filters.webvis import Webvis\n",
    "\n",
    "Filter.run_multi([\n",
    "        (VideoIn, dict(sources='file://video.mp4', outputs='tcp://*:5000')),\n",
    "        (Webvis,  dict(sources='tcp://localhost:5000')), # Webvis connects to VideoIn's output\n",
    "    ])"
   ]
  },
  {
   "cell_type": "code",
   "execution_count": null,
   "id": "1251ed51",
   "metadata": {},
   "outputs": [],
   "source": []
  }
 ],
 "metadata": {
  "kernelspec": {
   "display_name": "Python 3",
   "language": "python",
   "name": "python3"
  },
  "language_info": {
   "codemirror_mode": {
    "name": "ipython",
    "version": 3
   },
   "file_extension": ".py",
   "mimetype": "text/x-python",
   "name": "python",
   "nbconvert_exporter": "python",
   "pygments_lexer": "ipython3",
   "version": "3.12.1"
  }
 },
 "nbformat": 4,
 "nbformat_minor": 5
}
